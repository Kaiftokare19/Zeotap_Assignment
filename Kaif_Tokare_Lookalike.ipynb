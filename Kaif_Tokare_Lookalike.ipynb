{
  "nbformat": 4,
  "nbformat_minor": 0,
  "metadata": {
    "colab": {
      "provenance": []
    },
    "kernelspec": {
      "name": "python3",
      "display_name": "Python 3"
    },
    "language_info": {
      "name": "python"
    }
  },
  "cells": [
    {
      "cell_type": "code",
      "execution_count": 3,
      "metadata": {
        "colab": {
          "base_uri": "https://localhost:8080/"
        },
        "id": "tUopcdtVryhe",
        "outputId": "3d7f815c-d950-4db6-d6ec-5dbce0cc56c4"
      },
      "outputs": [
        {
          "output_type": "stream",
          "name": "stdout",
          "text": [
            "Drive already mounted at /content/drive; to attempt to forcibly remount, call drive.mount(\"/content/drive\", force_remount=True).\n"
          ]
        }
      ],
      "source": [
        "from google.colab import drive\n",
        "drive.mount('/content/drive')"
      ]
    },
    {
      "cell_type": "code",
      "source": [
        "# Task 2: Lookalike Model Using Folder Path\n",
        "\n",
        "# Importing necessary libraries\n",
        "from sklearn.metrics.pairwise import cosine_similarity\n",
        "from google.colab import files\n",
        "from sklearn.preprocessing import StandardScaler\n",
        "import pandas as pd\n",
        "import numpy as np\n",
        "import os\n",
        "\n",
        "# Step 1: Defining the folder path\n",
        "folder_path = \"/content/drive/MyDrive/ZeotapIntern\"\n",
        "\n",
        "# Step 2: Loading the datasets\n",
        "customers_df = pd.read_csv(os.path.join(folder_path, 'Customers.csv'))\n",
        "products_df = pd.read_csv(os.path.join(folder_path, 'Products.csv'))\n",
        "transactions_df = pd.read_csv(os.path.join(folder_path, 'Transactions.csv'))\n",
        "\n",
        "# Step 3: Preparing the data\n",
        "# Merging Customers and Transactions datasets on 'CustomerID'\n",
        "merged_df = pd.merge(transactions_df, customers_df, on='CustomerID', how='inner')\n",
        "\n",
        "# Merging the result with Products dataset on 'ProductID'\n",
        "final_df = pd.merge(merged_df, products_df, on='ProductID', how='inner')\n",
        "\n",
        "# Aggregation of features for each customer\n",
        "features_df = final_df.groupby('CustomerID').agg({\n",
        "    'TotalValue': 'sum',\n",
        "    'Quantity': 'sum',\n",
        "    'Region': lambda x: x.mode()[0],\n",
        "    'Category': lambda x: x.mode()[0]\n",
        "}).reset_index()\n",
        "\n",
        "# Converting categorical features into numerical format using one-hot encoding\n",
        "features_df = pd.get_dummies(features_df, columns=['Region', 'Category'])\n",
        "\n",
        "# Step 4: Normalizing the data\n",
        "scaler = StandardScaler()\n",
        "# Excluding CustomerID while normalizing\n",
        "feature_columns = features_df.columns[1:]\n",
        "features_scaled = scaler.fit_transform(features_df[feature_columns])\n",
        "\n",
        "# Step 5: Calculation of customer similarity\n",
        "# Computing cosine similarity for the normalized feature matrix\n",
        "similarity_matrix = cosine_similarity(features_scaled)\n",
        "\n",
        "# Step 6: Defining a function to find top N similar customers\n",
        "def find_lookalikes(customer_id, top_n=3):\n",
        "    # Location of the customer's index in the features DataFrame\n",
        "    customer_index = features_df[features_df['CustomerID'] == customer_id].index[0]\n",
        "    # Retrieving similarity scores for the customer\n",
        "    similarity_scores = similarity_matrix[customer_index]\n",
        "    # Sorting of scores in descending order and select the top N similar customers (excluding the customer itself)\n",
        "    similar_indices = np.argsort(similarity_scores)[::-1][1:top_n + 1]\n",
        "    similar_customers = [\n",
        "        (features_df.iloc[i]['CustomerID'], similarity_scores[i]) for i in similar_indices\n",
        "    ]\n",
        "    return similar_customers\n",
        "\n",
        "# Step 7: Generation of Lookalike.csv for the first 20 customers\n",
        "lookalike_results = {}\n",
        "\n",
        "# Iteraion over the first 20 customers to generate lookalike data\n",
        "for customer_id in features_df['CustomerID'][:20]:\n",
        "    lookalikes = find_lookalikes(customer_id)\n",
        "    lookalike_results[customer_id] = lookalikes\n",
        "\n",
        "# Preparing data for saving as a CSV file\n",
        "lookalike_data = []\n",
        "\n",
        "for customer_id, lookalikes in lookalike_results.items():\n",
        "    for similar_customer, score in lookalikes:\n",
        "        lookalike_data.append([customer_id, similar_customer, score])\n",
        "\n",
        "# Creating a DataFrame and save the results to 'Lookalike.csv'\n",
        "lookalike_df = pd.DataFrame(lookalike_data, columns=['CustomerID', 'SimilarCustomerID', 'SimilarityScore'])\n",
        "lookalike_df.to_csv('Lookalike.csv', index=False)\n",
        "\n",
        "# Displaying a success message and preview the results\n",
        "print(\"Lookalike model results saved as Lookalike.csv\")\n",
        "print(lookalike_df.head())\n",
        "# Downloading the Lookalike.csv file\n",
        "files.download('Lookalike.csv')"
      ],
      "metadata": {
        "id": "eguLqMzjsBwa",
        "colab": {
          "base_uri": "https://localhost:8080/",
          "height": 139
        },
        "outputId": "2bf80ef7-ccbf-4e10-b8dd-1d3dba4cf13c"
      },
      "execution_count": 7,
      "outputs": [
        {
          "output_type": "stream",
          "name": "stdout",
          "text": [
            "Lookalike model results saved as Lookalike.csv\n",
            "  CustomerID SimilarCustomerID  SimilarityScore\n",
            "0      C0001             C0184         0.998284\n",
            "1      C0001             C0048         0.995289\n",
            "2      C0001             C0190         0.990616\n",
            "3      C0002             C0088         0.998952\n",
            "4      C0002             C0092         0.980115\n"
          ]
        },
        {
          "output_type": "display_data",
          "data": {
            "text/plain": [
              "<IPython.core.display.Javascript object>"
            ],
            "application/javascript": [
              "\n",
              "    async function download(id, filename, size) {\n",
              "      if (!google.colab.kernel.accessAllowed) {\n",
              "        return;\n",
              "      }\n",
              "      const div = document.createElement('div');\n",
              "      const label = document.createElement('label');\n",
              "      label.textContent = `Downloading \"${filename}\": `;\n",
              "      div.appendChild(label);\n",
              "      const progress = document.createElement('progress');\n",
              "      progress.max = size;\n",
              "      div.appendChild(progress);\n",
              "      document.body.appendChild(div);\n",
              "\n",
              "      const buffers = [];\n",
              "      let downloaded = 0;\n",
              "\n",
              "      const channel = await google.colab.kernel.comms.open(id);\n",
              "      // Send a message to notify the kernel that we're ready.\n",
              "      channel.send({})\n",
              "\n",
              "      for await (const message of channel.messages) {\n",
              "        // Send a message to notify the kernel that we're ready.\n",
              "        channel.send({})\n",
              "        if (message.buffers) {\n",
              "          for (const buffer of message.buffers) {\n",
              "            buffers.push(buffer);\n",
              "            downloaded += buffer.byteLength;\n",
              "            progress.value = downloaded;\n",
              "          }\n",
              "        }\n",
              "      }\n",
              "      const blob = new Blob(buffers, {type: 'application/binary'});\n",
              "      const a = document.createElement('a');\n",
              "      a.href = window.URL.createObjectURL(blob);\n",
              "      a.download = filename;\n",
              "      div.appendChild(a);\n",
              "      a.click();\n",
              "      div.remove();\n",
              "    }\n",
              "  "
            ]
          },
          "metadata": {}
        },
        {
          "output_type": "display_data",
          "data": {
            "text/plain": [
              "<IPython.core.display.Javascript object>"
            ],
            "application/javascript": [
              "download(\"download_00a65bb6-9bd4-4990-bab3-c2ab4a77f963\", \"Lookalike.csv\", 1897)"
            ]
          },
          "metadata": {}
        }
      ]
    }
  ]
}